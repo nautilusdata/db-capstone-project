{
 "cells": [
  {
   "cell_type": "code",
   "execution_count": 59,
   "id": "5e5cf3ea",
   "metadata": {},
   "outputs": [
    {
     "name": "stdout",
     "output_type": "stream",
     "text": [
      "Connection SET\n",
      "Cursor SET\n",
      "Using LittleLemonDB SET\n"
     ]
    }
   ],
   "source": [
    "#***********************************\n",
    "# TASK 1: Connection to the dabatase \n",
    "#***********************************\n",
    "\n",
    "# 1.Establish a connection\n",
    "# Import MySQL Connector/Python \n",
    "import mysql.connector as connector\n",
    "connection = connector.connect(user=\"admin1\", password=\"R0drig0#\", db=\"LittleLemonDB\")\n",
    "print(\"Connection SET\")\n",
    "\n",
    "# 2. Create a cursor\n",
    "cursor = connection.cursor()\n",
    "print(\"Cursor SET\")\n",
    "\n",
    "\n",
    "# 3. Set database for use\n",
    "cursor.execute(\"USE LittleLemonDB\")\n",
    "print(\"Using LittleLemonDB SET\")\n"
   ]
  },
  {
   "cell_type": "code",
   "execution_count": 60,
   "id": "02d27c9d",
   "metadata": {},
   "outputs": [
    {
     "name": "stdout",
     "output_type": "stream",
     "text": [
      "Tables in database, and OrdersView\n",
      "----------------------------------\n",
      "('Bookings',)\n",
      "('Customers',)\n",
      "('Desserts',)\n",
      "('Drinks',)\n",
      "('MenuItems',)\n",
      "('Menus',)\n",
      "('Orders',)\n",
      "('OrdersView',)\n",
      "('Staff',)\n"
     ]
    }
   ],
   "source": [
    "#********************************\n",
    "# TASK 2: Show tables in database \n",
    "#********************************\n",
    "print(\"Tables in database, and OrdersView\")\n",
    "print(\"----------------------------------\")\n",
    "show_tables_query=\"\"\"SHOW TABLES;\"\"\"\n",
    "cursor.execute(show_tables_query)\n",
    "results = cursor.fetchall()\n",
    "for x in results:\n",
    "    print (x)\n",
    "\n"
   ]
  },
  {
   "cell_type": "code",
   "execution_count": 61,
   "id": "5c70fa32",
   "metadata": {},
   "outputs": [],
   "source": [
    "#*******************************************************************\n",
    "# TASK 3: Full name and contact details for clients with orders > 60 \n",
    "#*******************************************************************"
   ]
  },
  {
   "cell_type": "code",
   "execution_count": 62,
   "id": "0a7df713",
   "metadata": {},
   "outputs": [
    {
     "name": "stdout",
     "output_type": "stream",
     "text": [
      "Promotion Data: Name and contact details for clients with orders over $60\n",
      "-------------------------------------------------------------------------\n",
      "('Michael Smith', '555-555-0004', 'michael@example.com', 'Miami', 'Florida', Decimal('100.80'))\n",
      "('Sarah Johnson', '555-555-0005', 'sarah@email.com', 'Houston', 'Texas', Decimal('341.60'))\n",
      "('Emily Davis', '555-555-0006', 'emily@example.com', 'San Francisco', 'California', Decimal('72.80'))\n",
      "('Laura Martinez', '555-555-0008', 'laura@email.com', 'Dallas', 'Texas', Decimal('93.80'))\n",
      "('Maria Rodriguez', '555-555-0002', 'maria@email.com', 'Los Angeles', 'California', Decimal('291.20'))\n",
      "('Sophie Baker', '555-555-1011', 'sophie@email.com', 'New Orleans', 'Louisiana', Decimal('151.20'))\n",
      "('Ethan King', '555-555-1008', 'ethan@email.com', 'Dallas', 'Texas', Decimal('65.80'))\n",
      "('James Miller', '555-555-1012', 'james@vvvemail.com', 'San Francisco', 'California', Decimal('109.20'))\n",
      "('Olivia Garcia', '555-555-1013', 'olivia@email.com', 'Phoenix', 'Arizona', Decimal('235.20'))\n"
     ]
    }
   ],
   "source": [
    "print(\"Promotion Data: Name and contact details for clients with orders over $60\")\n",
    "print(\"-------------------------------------------------------------------------\")\n",
    "orders_60plus_query = \"\"\"\n",
    "SELECT Customers.CustomerName, Customers.PhoneNumber, Customers.Email, Customers.City, Customers.State, \n",
    "Orders.TotalCost AS Bill\n",
    "FROM Customers INNER JOIN Orders ON Orders.CustomerID = Customers.CustomerID \n",
    "WHERE TotalCost > 60;\n",
    "\"\"\"\n",
    "\n",
    "cursor.execute(orders_60plus_query)\n",
    "for results2 in cursor:\n",
    "    print(results2)\n"
   ]
  },
  {
   "cell_type": "code",
   "execution_count": null,
   "id": "ba03ecbb",
   "metadata": {},
   "outputs": [],
   "source": []
  }
 ],
 "metadata": {
  "kernelspec": {
   "display_name": "Python 3 (ipykernel)",
   "language": "python",
   "name": "python3"
  },
  "language_info": {
   "codemirror_mode": {
    "name": "ipython",
    "version": 3
   },
   "file_extension": ".py",
   "mimetype": "text/x-python",
   "name": "python",
   "nbconvert_exporter": "python",
   "pygments_lexer": "ipython3",
   "version": "3.10.12"
  }
 },
 "nbformat": 4,
 "nbformat_minor": 5
}
